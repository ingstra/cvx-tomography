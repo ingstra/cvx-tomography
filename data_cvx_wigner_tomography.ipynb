{
 "cells": [
  {
   "cell_type": "code",
   "execution_count": 3,
   "id": "54a81c95-16ce-4d42-adcd-31871f2301a7",
   "metadata": {},
   "outputs": [],
   "source": [
    "import numpy as np\n",
    "\n",
    "import cvxpy as cp\n",
    "\n",
    "from qutip import coherent, ket2dm, Qobj, expect, fidelity, fock, fock_dm, displace\n",
    "from qutip.visualization import plot_wigner_fock_distribution, plot_wigner\n",
    "from qutip.wigner import wigner\n",
    "\n",
    "from tqdm.auto import tqdm # progress bar\n",
    "\n",
    "import matplotlib.pyplot as plt\n",
    "from matplotlib import colors"
   ]
  },
  {
   "cell_type": "markdown",
   "id": "1069f545-a3fe-4c62-9959-85995972d2b6",
   "metadata": {},
   "source": [
    "### Define Wigner measurement operators"
   ]
  },
  {
   "cell_type": "code",
   "execution_count": 46,
   "id": "ec778093-c30d-4c61-979e-1e05be629760",
   "metadata": {},
   "outputs": [],
   "source": [
    "def wigner_ops(hilbert_size, betas):\n",
    "    \"\"\"\n",
    "    Constructs a list of measurement operators for the Wigner function\n",
    "    measurement at beta values.\n",
    "\n",
    "    Args:\n",
    "        hilbert_size (int): The hilbert size dimension for the operators\n",
    "        betas (list/array): N complex values to construct the operator\n",
    "\n",
    "    Returns:\n",
    "        ops_list (list): A list of (N, hilbert_size, hilbert_size) for N ops\n",
    "    \"\"\"\n",
    "    parity_op = sum([((-1)**i)*fock_dm(50, i) for i in range(hilbert_size)])\n",
    "    ops_list = []\n",
    "\n",
    "    for beta in tqdm(betas):\n",
    "        D = displace(50, beta) # need the larger Hilbert space to not get erroneous operators for large beta\n",
    "        A = D*parity_op*D.dag()\n",
    "        op = (A)*(2/np.pi)\n",
    "        op = Qobj(op[:hilbert_size, :hilbert_size]) # truncate to wanted Hilbert space size\n",
    "        ops_list.append(op)\n",
    "\n",
    "    return ops_list"
   ]
  },
  {
   "cell_type": "markdown",
   "id": "1d7253be-f98a-4554-be94-18c22f44b835",
   "metadata": {},
   "source": [
    "### Read measurement data"
   ]
  },
  {
   "cell_type": "code",
   "execution_count": 47,
   "id": "df4b50fc-871c-417a-9f25-1a3086f085c8",
   "metadata": {},
   "outputs": [
    {
     "data": {
      "image/png": "[encoded data removed]",
      "text/plain": [
       "<Figure size 432x288 with 1 Axes>"
      ]
     },
     "metadata": {
      "needs_background": "light"
     },
     "output_type": "display_data"
    }
   ],
   "source": [
    "wig_binomial = np.load('experimental_wigner_data/wig_binomial_61x61.npy')\n",
    "\n",
    "xvec = np.load('experimental_wigner_data/xvec_binomial_61x61.npy')\n",
    "xmin = np.min(xvec)\n",
    "xmax = np.max(xvec)\n",
    "\n",
    "norm = colors.TwoSlopeNorm(vmin = -2/np.pi, vcenter=0, vmax=2/np.pi)\n",
    "\n",
    "plt.imshow(wig_binomial, cmap=\"RdBu_r\", norm=norm, extent=[xmin, xmax, xmin, xmax]);\n",
    "\n",
    "b = wig_binomial.flatten()"
   ]
  },
  {
   "cell_type": "markdown",
   "id": "ee59ea42-74a7-4d39-ba1d-d2bcf4bbeae2",
   "metadata": {
    "tags": []
   },
   "source": [
    "### Measurement settings\n",
    "The coherent probe states $|\\beta\\rangle$ on a square grid in phase space."
   ]
  },
  {
   "cell_type": "code",
   "execution_count": 48,
   "id": "091f5c09-cfb3-4c16-8f0e-db73029248b9",
   "metadata": {},
   "outputs": [],
   "source": [
    "X, Y = np.meshgrid(xvec, xvec)\n",
    "\n",
    "# flatten the grid of probe states into a 1D array\n",
    "betas = (X + 1j*Y).ravel()"
   ]
  },
  {
   "cell_type": "markdown",
   "id": "eb3bcd8e-7f1f-46c1-843b-012a22ad09fc",
   "metadata": {
    "tags": []
   },
   "source": [
    "### Construct the operator basis: Fock basis\n",
    "The list `basis_dms` contains all $\\Omega_k$"
   ]
  },
  {
   "cell_type": "code",
   "execution_count": 49,
   "id": "712d6ca6-780e-4104-a003-edcabba22f26",
   "metadata": {},
   "outputs": [],
   "source": [
    "# Set Fock space dimension\n",
    "N = 10\n",
    "\n",
    "# construct vectors\n",
    "basis_vectors = []\n",
    "for i in range(N):\n",
    "    vector = fock(N, i)\n",
    "    basis_vectors.append(np.real(vector.full()))\n",
    "    \n",
    "# construct operators\n",
    "basis_dms = []\n",
    "for vector1 in basis_vectors:\n",
    "    for vector2 in basis_vectors:\n",
    "        dm = np.outer(vector1, vector2)\n",
    "        basis_dms.append(dm)"
   ]
  },
  {
   "cell_type": "markdown",
   "id": "05d5892f-361a-460f-81d6-99cd60b15ce5",
   "metadata": {},
   "source": [
    "#### Assign measurement operators $\\Pi$ with the measurement settings"
   ]
  },
  {
   "cell_type": "code",
   "execution_count": 50,
   "id": "2fa325fe-ad61-4273-b07e-722b0fd3ecca",
   "metadata": {},
   "outputs": [
    {
     "data": {
      "application/vnd.jupyter.widget-view+json": {
       "model_id": "3c29e052fa394abbb964ba8b93262cb3",
       "version_major": 2,
       "version_minor": 0
      },
      "text/plain": [
       "  0%|          | 0/3721 [00:00<?, ?it/s]"
      ]
     },
     "metadata": {},
     "output_type": "display_data"
    },
    {
     "name": "stdout",
     "output_type": "stream",
     "text": [
      "CPU times: user 22min, sys: 37min 24s, total: 59min 25s\n",
      "Wall time: 3min 56s\n"
     ]
    }
   ],
   "source": [
    "%%time\n",
    "Pis = wigner_ops(N, betas)"
   ]
  },
  {
   "cell_type": "markdown",
   "id": "fd86621c-dd01-47f6-972e-b183270047ea",
   "metadata": {
    "tags": []
   },
   "source": [
    "### Construct the matrix A in $A\\vec\\rho=\\vec b$\n",
    "From `Pis` and `basis_dms`."
   ]
  },
  {
   "cell_type": "code",
   "execution_count": 51,
   "id": "5c23cf89-c7b9-4710-86f9-ffc266292753",
   "metadata": {},
   "outputs": [
    {
     "data": {
      "application/vnd.jupyter.widget-view+json": {
       "model_id": "a59299376016489da5dfa8d5a6a7fd4b",
       "version_major": 2,
       "version_minor": 0
      },
      "text/plain": [
       "0it [00:00, ?it/s]"
      ]
     },
     "metadata": {},
     "output_type": "display_data"
    }
   ],
   "source": [
    "A = np.zeros((len(Pis), N*N), dtype=np.complex64)\n",
    "\n",
    "for index, a in tqdm(np.ndenumerate(A)):\n",
    "    A[index] = np.trace(Pis[index[0]].full() @ basis_dms[index[1]])\n"
   ]
  },
  {
   "cell_type": "markdown",
   "id": "7f13f243-b52d-463f-a8ee-21bb07938e69",
   "metadata": {},
   "source": [
    "## Convex optimization"
   ]
  },
  {
   "cell_type": "markdown",
   "id": "af997d0d-8a63-489d-b7ac-4e8b7c8ab318",
   "metadata": {},
   "source": [
    "Define the unknown state as a $N\\times N$ Hermitian matrix"
   ]
  },
  {
   "cell_type": "code",
   "execution_count": 52,
   "id": "cd6518c1-5118-48b7-8afe-2ebed4de6afe",
   "metadata": {},
   "outputs": [],
   "source": [
    "X = cp.Variable((N,N), hermitian=True)"
   ]
  },
  {
   "cell_type": "markdown",
   "id": "fe52802a-8803-47c3-aa31-57bbe3e3c673",
   "metadata": {},
   "source": [
    "Set the cost function to $\\|A\\vec\\rho - \\vec b\\|_2$ where the vectorized state is given by `cp.reshape(X, (N*N))`"
   ]
  },
  {
   "cell_type": "code",
   "execution_count": 53,
   "id": "eac4d262-41d1-454a-bc7f-2b95dd511772",
   "metadata": {},
   "outputs": [],
   "source": [
    "cost = cp.norm(A @ cp.reshape(X, (N*N)) - b, 2);"
   ]
  },
  {
   "cell_type": "markdown",
   "id": "47aeaa68-7562-4369-bec2-e7bf9174a42c",
   "metadata": {},
   "source": [
    "Set the trace constraint and positive-semidefinite constraint, respectively."
   ]
  },
  {
   "cell_type": "code",
   "execution_count": 54,
   "id": "56c28bb3-ffae-4d66-93c0-8eed971acb3e",
   "metadata": {},
   "outputs": [],
   "source": [
    "constraints = [cp.trace(X) == 1, X >> 0 ]"
   ]
  },
  {
   "cell_type": "markdown",
   "id": "1056bcb6-4573-4976-a2fe-dd3b3a07bcbe",
   "metadata": {},
   "source": [
    "Set up and solve the problem!"
   ]
  },
  {
   "cell_type": "code",
   "execution_count": 55,
   "id": "9fa1a1a1-9daa-472f-b6ce-7a55649fc7ff",
   "metadata": {},
   "outputs": [
    {
     "name": "stdout",
     "output_type": "stream",
     "text": [
      "WARN: A->p (column pointers) not strictly increasing, column 3777 empty\n",
      "WARN: A->p (column pointers) not strictly increasing, column 3788 empty\n",
      "WARN: A->p (column pointers) not strictly increasing, column 3799 empty\n",
      "WARN: A->p (column pointers) not strictly increasing, column 3810 empty\n",
      "WARN: A->p (column pointers) not strictly increasing, column 3821 empty\n",
      "WARN: A->p (column pointers) not strictly increasing, column 3832 empty\n",
      "WARN: A->p (column pointers) not strictly increasing, column 3843 empty\n",
      "WARN: A->p (column pointers) not strictly increasing, column 3854 empty\n",
      "WARN: A->p (column pointers) not strictly increasing, column 3865 empty\n",
      "WARN: A->p (column pointers) not strictly increasing, column 3876 empty\n"
     ]
    },
    {
     "data": {
      "text/plain": [
       "1.6231198558174107"
      ]
     },
     "execution_count": 55,
     "metadata": {},
     "output_type": "execute_result"
    }
   ],
   "source": [
    "prob = cp.Problem(cp.Minimize(cost), constraints)\n",
    "prob.solve()"
   ]
  },
  {
   "cell_type": "code",
   "execution_count": 56,
   "id": "380f4245-4df7-4d84-b6ef-7172e88e9e13",
   "metadata": {},
   "outputs": [],
   "source": [
    "# Assign the optimized state X to a Qobj.\n",
    "\n",
    "reconstructed_rho = Qobj(X.value)"
   ]
  },
  {
   "cell_type": "markdown",
   "id": "ac3c0990-7778-4067-aa72-5b6eb580699f",
   "metadata": {},
   "source": [
    "### Visualize results"
   ]
  },
  {
   "cell_type": "markdown",
   "id": "4c7a0c35-68a7-4238-a80f-250e36818b7a",
   "metadata": {},
   "source": [
    "Plot the reconstructed state and show the fidelity"
   ]
  },
  {
   "cell_type": "code",
   "execution_count": 57,
   "id": "12aa8fb4-91b8-4c93-99d2-8d426bcdf155",
   "metadata": {},
   "outputs": [
    {
     "data": {
      "image/png": "[encoded data removed]",
      "text/plain": [
       "<Figure size 576x288 with 2 Axes>"
      ]
     },
     "metadata": {
      "needs_background": "light"
     },
     "output_type": "display_data"
    }
   ],
   "source": [
    "alpha_max = 5\n",
    "fig, ax = plot_wigner_fock_distribution(reconstructed_rho, alpha_max=alpha_max)\n",
    "ax[0].set_title(\"Reconstructed state\");"
   ]
  },
  {
   "cell_type": "markdown",
   "id": "5f74dfea-2cea-4057-9654-b5c18484ab41",
   "metadata": {},
   "source": [
    "### Check fidelity to target state"
   ]
  },
  {
   "cell_type": "code",
   "execution_count": 58,
   "id": "9bb4762a-3959-4245-b0d8-831a1f0f0d87",
   "metadata": {},
   "outputs": [
    {
     "data": {
      "image/png": "[encoded data removed]",
      "text/plain": [
       "<Figure size 576x288 with 2 Axes>"
      ]
     },
     "metadata": {
      "needs_background": "light"
     },
     "output_type": "display_data"
    }
   ],
   "source": [
    "ideal_state = (fock(N,0) + fock(N,4)).unit()\n",
    "fig, ax = plot_wigner_fock_distribution(ideal_state, alpha_max=alpha_max)\n",
    "ax[0].set_title(\"Ideal state\");"
   ]
  },
  {
   "cell_type": "markdown",
   "id": "ab1b12fd-d311-4f41-95fe-821ed28e9973",
   "metadata": {},
   "source": [
    "Similar fidelity as in the [publication](https://arxiv.org/abs/2111.07965)."
   ]
  },
  {
   "cell_type": "code",
   "execution_count": 59,
   "id": "62488f02-d072-422e-9304-95c6d67e5336",
   "metadata": {},
   "outputs": [
    {
     "name": "stdout",
     "output_type": "stream",
     "text": [
      "Fidelity: 0.9482368283609282\n"
     ]
    }
   ],
   "source": [
    "F = fidelity(ideal_state, reconstructed_rho)\n",
    "print(\"Fidelity:\", F)"
   ]
  },
  {
   "cell_type": "code",
   "execution_count": null,
   "id": "a4614059-b1e2-4667-9e57-911e2378afc0",
   "metadata": {},
   "outputs": [],
   "source": []
  }
 ],
 "metadata": {
  "kernelspec": {
   "display_name": "Python 3 (ipykernel)",
   "language": "python",
   "name": "python3"
  },
  "language_info": {
   "codemirror_mode": {
    "name": "ipython",
    "version": 3
   },
   "file_extension": ".py",
   "mimetype": "text/x-python",
   "name": "python",
   "nbconvert_exporter": "python",
   "pygments_lexer": "ipython3",
   "version": "3.9.5"
  },
  "widgets": {
   "application/vnd.jupyter.widget-state+json": {
    "state": {
     "02c83faffe1f420bbcf2dd02ba0c8c90": {
      "model_module": "@jupyter-widgets/base",
      "model_module_version": "1.2.0",
      "model_name": "LayoutModel",
      "state": {}
     },
     "0354e3ca39a747e0884573dd8aee3683": {
      "model_module": "@jupyter-widgets/controls",
      "model_module_version": "1.5.0",
      "model_name": "FloatProgressModel",
      "state": {
       "bar_style": "success",
       "layout": "IPY_MODEL_ce32f2f894b44e4194eee20934fddd5d",
       "max": 1,
       "style": "IPY_MODEL_f1028d9bda8d4cf0bcc00c6a15c1fa8d",
       "value": 1
      }
     },
     "053f1a35699244148f19860b830f18aa": {
      "model_module": "@jupyter-widgets/base",
      "model_module_version": "1.2.0",
      "model_name": "LayoutModel",
      "state": {}
     },
     "0cd3500b1aef49fd97fb627933cf172d": {
      "model_module": "@jupyter-widgets/controls",
      "model_module_version": "1.5.0",
      "model_name": "FloatProgressModel",
      "state": {
       "bar_style": "success",
       "layout": "IPY_MODEL_845a57ca4c614a399eb63845a314db38",
       "max": 3721,
       "style": "IPY_MODEL_bd58523ac6264d3aa6def155e555c09f",
       "value": 3721
      }
     },
     "11ae714d22244162a6a456d734b40a2c": {
      "model_module": "@jupyter-widgets/controls",
      "model_module_version": "1.5.0",
      "model_name": "DescriptionStyleModel",
      "state": {
       "description_width": ""
      }
     },
     "1a986db4866f432f8710ee1430535da3": {
      "model_module": "@jupyter-widgets/controls",
      "model_module_version": "1.5.0",
      "model_name": "FloatProgressModel",
      "state": {
       "bar_style": "success",
       "layout": "IPY_MODEL_45937c3587ed4cdc863ff2b390e40ab0",
       "max": 1,
       "style": "IPY_MODEL_b783e6b885824ddbbf7cf9514b77c7f9",
       "value": 1
      }
     },
     "2059a5770edd47699b5474fcaa3a95d2": {
      "model_module": "@jupyter-widgets/base",
      "model_module_version": "1.2.0",
      "model_name": "LayoutModel",
      "state": {}
     },
     "20aa3927192f46af853a45cf2c13efcf": {
      "model_module": "@jupyter-widgets/controls",
      "model_module_version": "1.5.0",
      "model_name": "FloatProgressModel",
      "state": {
       "bar_style": "success",
       "layout": "IPY_MODEL_7aa5ec34ef9041f0b0f900f2b752f035",
       "max": 3721,
       "style": "IPY_MODEL_f0648ca76d4a4201be0d2c8a23beff3e",
       "value": 3721
      }
     },
     "292680f1f2d24d61ba6d7d7a60cca8f9": {
      "model_module": "@jupyter-widgets/controls",
      "model_module_version": "1.5.0",
      "model_name": "DescriptionStyleModel",
      "state": {
       "description_width": ""
      }
     },
     "2a64da9f02194eca866ce39049d9f3e5": {
      "model_module": "@jupyter-widgets/base",
      "model_module_version": "1.2.0",
      "model_name": "LayoutModel",
      "state": {}
     },
     "2aa71fe7ac224796a3f944390f1047a6": {
      "model_module": "@jupyter-widgets/controls",
      "model_module_version": "1.5.0",
      "model_name": "ProgressStyleModel",
      "state": {
       "description_width": ""
      }
     },
     "2e106a2328f0400aa42072557ecea1f8": {
      "model_module": "@jupyter-widgets/controls",
      "model_module_version": "1.5.0",
      "model_name": "FloatProgressModel",
      "state": {
       "bar_style": "danger",
       "layout": "IPY_MODEL_e383975c95d0456a99987ad5d064f5bb",
       "max": 3721,
       "style": "IPY_MODEL_544aceff8e904ac2accbdc1f3665c8d4",
       "value": 20
      }
     },
     "3099675498dd452c85d24e5cb35a9d2f": {
      "model_module": "@jupyter-widgets/base",
      "model_module_version": "1.2.0",
      "model_name": "LayoutModel",
      "state": {}
     },
     "31d58b22088a4481801e3352b2413a51": {
      "model_module": "@jupyter-widgets/controls",
      "model_module_version": "1.5.0",
      "model_name": "DescriptionStyleModel",
      "state": {
       "description_width": ""
      }
     },
     "340d15d55f2c44e8b8d52489c3e055ce": {
      "model_module": "@jupyter-widgets/controls",
      "model_module_version": "1.5.0",
      "model_name": "HTMLModel",
      "state": {
       "layout": "IPY_MODEL_75e333b291544185b15a4afd65abf5ad",
       "style": "IPY_MODEL_63bf3bbb8d3648babc4e0b3213876bec",
       "value": " 372100/? [00:04&lt;00:00, 81108.54it/s]"
      }
     },
     "3c29e052fa394abbb964ba8b93262cb3": {
      "model_module": "@jupyter-widgets/controls",
      "model_module_version": "1.5.0",
      "model_name": "HBoxModel",
      "state": {
       "children": [
        "IPY_MODEL_54454fa2709c4fb9894bcbff01490024",
        "IPY_MODEL_fed77fdbc44c414e990fd16dab01f0b9",
        "IPY_MODEL_4ea788cdeea643e98e7a8fb98c43fed2"
       ],
       "layout": "IPY_MODEL_02c83faffe1f420bbcf2dd02ba0c8c90"
      }
     },
     "3de394941f8d4e868d95922257b16fd0": {
      "model_module": "@jupyter-widgets/controls",
      "model_module_version": "1.5.0",
      "model_name": "HTMLModel",
      "state": {
       "layout": "IPY_MODEL_9fbb7e33001c47ea89fb720d6166ac63",
       "style": "IPY_MODEL_31d58b22088a4481801e3352b2413a51",
       "value": "  1%"
      }
     },
     "4034306eed4740e68e7561e5209b6aaf": {
      "model_module": "@jupyter-widgets/base",
      "model_module_version": "1.2.0",
      "model_name": "LayoutModel",
      "state": {}
     },
     "41276baafcb0411597b0b9190c1691af": {
      "model_module": "@jupyter-widgets/controls",
      "model_module_version": "1.5.0",
      "model_name": "HBoxModel",
      "state": {
       "children": [
        "IPY_MODEL_8c4ade3725d844c0b3bfa9a157bda352",
        "IPY_MODEL_0354e3ca39a747e0884573dd8aee3683",
        "IPY_MODEL_340d15d55f2c44e8b8d52489c3e055ce"
       ],
       "layout": "IPY_MODEL_6d9c6eac32dd4279b96c155576d3e081"
      }
     },
     "45250771aa164cf28bf85861e57bed1f": {
      "model_module": "@jupyter-widgets/controls",
      "model_module_version": "1.5.0",
      "model_name": "HBoxModel",
      "state": {
       "children": [
        "IPY_MODEL_a470e6403f0149318eb497619714909e",
        "IPY_MODEL_20aa3927192f46af853a45cf2c13efcf",
        "IPY_MODEL_8eaa2fdadfeb45ab81739564a11c8e33"
       ],
       "layout": "IPY_MODEL_e4a0d588c7ad4b0b9687acbf5aad0b02"
      }
     },
     "45937c3587ed4cdc863ff2b390e40ab0": {
      "model_module": "@jupyter-widgets/base",
      "model_module_version": "1.2.0",
      "model_name": "LayoutModel",
      "state": {
       "width": "20px"
      }
     },
     "4a436b304e0e4c5588b91ea6a1467dda": {
      "model_module": "@jupyter-widgets/base",
      "model_module_version": "1.2.0",
      "model_name": "LayoutModel",
      "state": {}
     },
     "4a47c55b6acf46dc90c8c9a6e0bf9ff7": {
      "model_module": "@jupyter-widgets/base",
      "model_module_version": "1.2.0",
      "model_name": "LayoutModel",
      "state": {
       "width": "20px"
      }
     },
     "4ea788cdeea643e98e7a8fb98c43fed2": {
      "model_module": "@jupyter-widgets/controls",
      "model_module_version": "1.5.0",
      "model_name": "HTMLModel",
      "state": {
       "layout": "IPY_MODEL_c67b7de898b04ec9a97674c9402759fb",
       "style": "IPY_MODEL_7b4e73068a9443ddbf8d786abd0c18d0",
       "value": " 3721/3721 [03:56&lt;00:00, 21.20it/s]"
      }
     },
     "54454fa2709c4fb9894bcbff01490024": {
      "model_module": "@jupyter-widgets/controls",
      "model_module_version": "1.5.0",
      "model_name": "HTMLModel",
      "state": {
       "layout": "IPY_MODEL_2059a5770edd47699b5474fcaa3a95d2",
       "style": "IPY_MODEL_292680f1f2d24d61ba6d7d7a60cca8f9",
       "value": "100%"
      }
     },
     "544aceff8e904ac2accbdc1f3665c8d4": {
      "model_module": "@jupyter-widgets/controls",
      "model_module_version": "1.5.0",
      "model_name": "ProgressStyleModel",
      "state": {
       "description_width": ""
      }
     },
     "60ddca38d47e43ef9beb95cd4052ff84": {
      "model_module": "@jupyter-widgets/controls",
      "model_module_version": "1.5.0",
      "model_name": "DescriptionStyleModel",
      "state": {
       "description_width": ""
      }
     },
     "6194356cb8c948c5b28954b80f8f85ff": {
      "model_module": "@jupyter-widgets/controls",
      "model_module_version": "1.5.0",
      "model_name": "HBoxModel",
      "state": {
       "children": [
        "IPY_MODEL_b99c015501004a91b79cdee07d7c2c63",
        "IPY_MODEL_0cd3500b1aef49fd97fb627933cf172d",
        "IPY_MODEL_b24596885398403c9a8f8a6ed83ce3a5"
       ],
       "layout": "IPY_MODEL_f7d3ca4cefd94b2a82cb7969b25bbeab"
      }
     },
     "61e4716be00f4898bdca60c2dcc1744a": {
      "model_module": "@jupyter-widgets/base",
      "model_module_version": "1.2.0",
      "model_name": "LayoutModel",
      "state": {}
     },
     "637bc679ab9f4e0b9d5f10613cc019d8": {
      "model_module": "@jupyter-widgets/base",
      "model_module_version": "1.2.0",
      "model_name": "LayoutModel",
      "state": {}
     },
     "63bf3bbb8d3648babc4e0b3213876bec": {
      "model_module": "@jupyter-widgets/controls",
      "model_module_version": "1.5.0",
      "model_name": "DescriptionStyleModel",
      "state": {
       "description_width": ""
      }
     },
     "6798b4ff1d424ca9a27c61536a5af50f": {
      "model_module": "@jupyter-widgets/controls",
      "model_module_version": "1.5.0",
      "model_name": "DescriptionStyleModel",
      "state": {
       "description_width": ""
      }
     },
     "6d9c6eac32dd4279b96c155576d3e081": {
      "model_module": "@jupyter-widgets/base",
      "model_module_version": "1.2.0",
      "model_name": "LayoutModel",
      "state": {}
     },
     "75e333b291544185b15a4afd65abf5ad": {
      "model_module": "@jupyter-widgets/base",
      "model_module_version": "1.2.0",
      "model_name": "LayoutModel",
      "state": {}
     },
     "76eec7e93ed449eab53a318732179a4f": {
      "model_module": "@jupyter-widgets/controls",
      "model_module_version": "1.5.0",
      "model_name": "DescriptionStyleModel",
      "state": {
       "description_width": ""
      }
     },
     "791c28d5073e46d59c3a0563935ed3a9": {
      "model_module": "@jupyter-widgets/controls",
      "model_module_version": "1.5.0",
      "model_name": "HTMLModel",
      "state": {
       "layout": "IPY_MODEL_b2cb3293504840b6983a4dd30acd0a3f",
       "style": "IPY_MODEL_819032d12841404aac8efe0e8c4f020c",
       "value": " 372100/? [00:08&lt;00:00, 39690.15it/s]"
      }
     },
     "7aa5ec34ef9041f0b0f900f2b752f035": {
      "model_module": "@jupyter-widgets/base",
      "model_module_version": "1.2.0",
      "model_name": "LayoutModel",
      "state": {}
     },
     "7b4e73068a9443ddbf8d786abd0c18d0": {
      "model_module": "@jupyter-widgets/controls",
      "model_module_version": "1.5.0",
      "model_name": "DescriptionStyleModel",
      "state": {
       "description_width": ""
      }
     },
     "7b9c4177134c4dc193210a9ca32ba707": {
      "model_module": "@jupyter-widgets/controls",
      "model_module_version": "1.5.0",
      "model_name": "HTMLModel",
      "state": {
       "layout": "IPY_MODEL_637bc679ab9f4e0b9d5f10613cc019d8",
       "style": "IPY_MODEL_8fa882b68b0b46f2a3d0358eeac13c78",
       "value": " 20/3721 [00:43&lt;2:02:57,  1.99s/it]"
      }
     },
     "7d7844cb35714035a4230ef101f351e8": {
      "model_module": "@jupyter-widgets/base",
      "model_module_version": "1.2.0",
      "model_name": "LayoutModel",
      "state": {}
     },
     "819032d12841404aac8efe0e8c4f020c": {
      "model_module": "@jupyter-widgets/controls",
      "model_module_version": "1.5.0",
      "model_name": "DescriptionStyleModel",
      "state": {
       "description_width": ""
      }
     },
     "845a57ca4c614a399eb63845a314db38": {
      "model_module": "@jupyter-widgets/base",
      "model_module_version": "1.2.0",
      "model_name": "LayoutModel",
      "state": {}
     },
     "8b22e7e746494f48b66cb239e82ebb1e": {
      "model_module": "@jupyter-widgets/controls",
      "model_module_version": "1.5.0",
      "model_name": "HTMLModel",
      "state": {
       "layout": "IPY_MODEL_9dfd4a971b0e48be860ba7dba30d2149",
       "style": "IPY_MODEL_76eec7e93ed449eab53a318732179a4f"
      }
     },
     "8c4ade3725d844c0b3bfa9a157bda352": {
      "model_module": "@jupyter-widgets/controls",
      "model_module_version": "1.5.0",
      "model_name": "HTMLModel",
      "state": {
       "layout": "IPY_MODEL_4034306eed4740e68e7561e5209b6aaf",
       "style": "IPY_MODEL_60ddca38d47e43ef9beb95cd4052ff84"
      }
     },
     "8eaa2fdadfeb45ab81739564a11c8e33": {
      "model_module": "@jupyter-widgets/controls",
      "model_module_version": "1.5.0",
      "model_name": "HTMLModel",
      "state": {
       "layout": "IPY_MODEL_b35cd5d53f91447d880dc573d1f50342",
       "style": "IPY_MODEL_be7659a515ad40d397e410db8da2165b",
       "value": " 3721/3721 [00:08&lt;00:00, 548.57it/s]"
      }
     },
     "8fa882b68b0b46f2a3d0358eeac13c78": {
      "model_module": "@jupyter-widgets/controls",
      "model_module_version": "1.5.0",
      "model_name": "DescriptionStyleModel",
      "state": {
       "description_width": ""
      }
     },
     "910caa5cba8f43e9a907b0bf24dd9b6a": {
      "model_module": "@jupyter-widgets/controls",
      "model_module_version": "1.5.0",
      "model_name": "DescriptionStyleModel",
      "state": {
       "description_width": ""
      }
     },
     "9dfd4a971b0e48be860ba7dba30d2149": {
      "model_module": "@jupyter-widgets/base",
      "model_module_version": "1.2.0",
      "model_name": "LayoutModel",
      "state": {}
     },
     "9f01e23da24144428ebb7943d23ea92c": {
      "model_module": "@jupyter-widgets/controls",
      "model_module_version": "1.5.0",
      "model_name": "HBoxModel",
      "state": {
       "children": [
        "IPY_MODEL_3de394941f8d4e868d95922257b16fd0",
        "IPY_MODEL_2e106a2328f0400aa42072557ecea1f8",
        "IPY_MODEL_7b9c4177134c4dc193210a9ca32ba707"
       ],
       "layout": "IPY_MODEL_cd712797b19e4e6e8b608f543f9a7632"
      }
     },
     "9fbb7e33001c47ea89fb720d6166ac63": {
      "model_module": "@jupyter-widgets/base",
      "model_module_version": "1.2.0",
      "model_name": "LayoutModel",
      "state": {}
     },
     "a470e6403f0149318eb497619714909e": {
      "model_module": "@jupyter-widgets/controls",
      "model_module_version": "1.5.0",
      "model_name": "HTMLModel",
      "state": {
       "layout": "IPY_MODEL_3099675498dd452c85d24e5cb35a9d2f",
       "style": "IPY_MODEL_11ae714d22244162a6a456d734b40a2c",
       "value": "100%"
      }
     },
     "a59299376016489da5dfa8d5a6a7fd4b": {
      "model_module": "@jupyter-widgets/controls",
      "model_module_version": "1.5.0",
      "model_name": "HBoxModel",
      "state": {
       "children": [
        "IPY_MODEL_8b22e7e746494f48b66cb239e82ebb1e",
        "IPY_MODEL_1a986db4866f432f8710ee1430535da3",
        "IPY_MODEL_791c28d5073e46d59c3a0563935ed3a9"
       ],
       "layout": "IPY_MODEL_7d7844cb35714035a4230ef101f351e8"
      }
     },
     "b144a64cdc0b4feab7c745c1ca4980b5": {
      "model_module": "@jupyter-widgets/controls",
      "model_module_version": "1.5.0",
      "model_name": "DescriptionStyleModel",
      "state": {
       "description_width": ""
      }
     },
     "b1dfdc240e4540728b3cd057e6594f65": {
      "model_module": "@jupyter-widgets/base",
      "model_module_version": "1.2.0",
      "model_name": "LayoutModel",
      "state": {}
     },
     "b24596885398403c9a8f8a6ed83ce3a5": {
      "model_module": "@jupyter-widgets/controls",
      "model_module_version": "1.5.0",
      "model_name": "HTMLModel",
      "state": {
       "layout": "IPY_MODEL_2a64da9f02194eca866ce39049d9f3e5",
       "style": "IPY_MODEL_b144a64cdc0b4feab7c745c1ca4980b5",
       "value": " 3721/3721 [00:11&lt;00:00, 318.55it/s]"
      }
     },
     "b296f7a819824ce296a5e6d218de9e1e": {
      "model_module": "@jupyter-widgets/controls",
      "model_module_version": "1.5.0",
      "model_name": "FloatProgressModel",
      "state": {
       "bar_style": "success",
       "layout": "IPY_MODEL_4a47c55b6acf46dc90c8c9a6e0bf9ff7",
       "max": 1,
       "style": "IPY_MODEL_2aa71fe7ac224796a3f944390f1047a6",
       "value": 1
      }
     },
     "b2cb3293504840b6983a4dd30acd0a3f": {
      "model_module": "@jupyter-widgets/base",
      "model_module_version": "1.2.0",
      "model_name": "LayoutModel",
      "state": {}
     },
     "b35cd5d53f91447d880dc573d1f50342": {
      "model_module": "@jupyter-widgets/base",
      "model_module_version": "1.2.0",
      "model_name": "LayoutModel",
      "state": {}
     },
     "b783e6b885824ddbbf7cf9514b77c7f9": {
      "model_module": "@jupyter-widgets/controls",
      "model_module_version": "1.5.0",
      "model_name": "ProgressStyleModel",
      "state": {
       "description_width": ""
      }
     },
     "b99c015501004a91b79cdee07d7c2c63": {
      "model_module": "@jupyter-widgets/controls",
      "model_module_version": "1.5.0",
      "model_name": "HTMLModel",
      "state": {
       "layout": "IPY_MODEL_61e4716be00f4898bdca60c2dcc1744a",
       "style": "IPY_MODEL_6798b4ff1d424ca9a27c61536a5af50f",
       "value": "100%"
      }
     },
     "b9d0c54379c04430bdc49051c59694d3": {
      "model_module": "@jupyter-widgets/base",
      "model_module_version": "1.2.0",
      "model_name": "LayoutModel",
      "state": {}
     },
     "bd58523ac6264d3aa6def155e555c09f": {
      "model_module": "@jupyter-widgets/controls",
      "model_module_version": "1.5.0",
      "model_name": "ProgressStyleModel",
      "state": {
       "description_width": ""
      }
     },
     "be7659a515ad40d397e410db8da2165b": {
      "model_module": "@jupyter-widgets/controls",
      "model_module_version": "1.5.0",
      "model_name": "DescriptionStyleModel",
      "state": {
       "description_width": ""
      }
     },
     "c67b7de898b04ec9a97674c9402759fb": {
      "model_module": "@jupyter-widgets/base",
      "model_module_version": "1.2.0",
      "model_name": "LayoutModel",
      "state": {}
     },
     "c8271856cd9d48e29a2ce92aa771bcaa": {
      "model_module": "@jupyter-widgets/controls",
      "model_module_version": "1.5.0",
      "model_name": "ProgressStyleModel",
      "state": {
       "description_width": ""
      }
     },
     "cd712797b19e4e6e8b608f543f9a7632": {
      "model_module": "@jupyter-widgets/base",
      "model_module_version": "1.2.0",
      "model_name": "LayoutModel",
      "state": {}
     },
     "ce32f2f894b44e4194eee20934fddd5d": {
      "model_module": "@jupyter-widgets/base",
      "model_module_version": "1.2.0",
      "model_name": "LayoutModel",
      "state": {
       "width": "20px"
      }
     },
     "d3377f3f9ae14f00947c932018aba208": {
      "model_module": "@jupyter-widgets/controls",
      "model_module_version": "1.5.0",
      "model_name": "HTMLModel",
      "state": {
       "layout": "IPY_MODEL_b1dfdc240e4540728b3cd057e6594f65",
       "style": "IPY_MODEL_910caa5cba8f43e9a907b0bf24dd9b6a"
      }
     },
     "e33e1ec47b424e8dbe7ba8216740ba58": {
      "model_module": "@jupyter-widgets/controls",
      "model_module_version": "1.5.0",
      "model_name": "HBoxModel",
      "state": {
       "children": [
        "IPY_MODEL_d3377f3f9ae14f00947c932018aba208",
        "IPY_MODEL_b296f7a819824ce296a5e6d218de9e1e",
        "IPY_MODEL_e49da0b1b330428aa3a132996260a5d2"
       ],
       "layout": "IPY_MODEL_053f1a35699244148f19860b830f18aa"
      }
     },
     "e383975c95d0456a99987ad5d064f5bb": {
      "model_module": "@jupyter-widgets/base",
      "model_module_version": "1.2.0",
      "model_name": "LayoutModel",
      "state": {}
     },
     "e49da0b1b330428aa3a132996260a5d2": {
      "model_module": "@jupyter-widgets/controls",
      "model_module_version": "1.5.0",
      "model_name": "HTMLModel",
      "state": {
       "layout": "IPY_MODEL_4a436b304e0e4c5588b91ea6a1467dda",
       "style": "IPY_MODEL_e7da0377f4894d40854202598dfbae4f",
       "value": " 372100/? [00:08&lt;00:00, 42868.38it/s]"
      }
     },
     "e4a0d588c7ad4b0b9687acbf5aad0b02": {
      "model_module": "@jupyter-widgets/base",
      "model_module_version": "1.2.0",
      "model_name": "LayoutModel",
      "state": {}
     },
     "e7da0377f4894d40854202598dfbae4f": {
      "model_module": "@jupyter-widgets/controls",
      "model_module_version": "1.5.0",
      "model_name": "DescriptionStyleModel",
      "state": {
       "description_width": ""
      }
     },
     "f0648ca76d4a4201be0d2c8a23beff3e": {
      "model_module": "@jupyter-widgets/controls",
      "model_module_version": "1.5.0",
      "model_name": "ProgressStyleModel",
      "state": {
       "description_width": ""
      }
     },
     "f1028d9bda8d4cf0bcc00c6a15c1fa8d": {
      "model_module": "@jupyter-widgets/controls",
      "model_module_version": "1.5.0",
      "model_name": "ProgressStyleModel",
      "state": {
       "description_width": ""
      }
     },
     "f7d3ca4cefd94b2a82cb7969b25bbeab": {
      "model_module": "@jupyter-widgets/base",
      "model_module_version": "1.2.0",
      "model_name": "LayoutModel",
      "state": {}
     },
     "fed77fdbc44c414e990fd16dab01f0b9": {
      "model_module": "@jupyter-widgets/controls",
      "model_module_version": "1.5.0",
      "model_name": "FloatProgressModel",
      "state": {
       "bar_style": "success",
       "layout": "IPY_MODEL_b9d0c54379c04430bdc49051c59694d3",
       "max": 3721,
       "style": "IPY_MODEL_c8271856cd9d48e29a2ce92aa771bcaa",
       "value": 3721
      }
     }
    },
    "version_major": 2,
    "version_minor": 0
   }
  }
 },
 "nbformat": 4,
 "nbformat_minor": 5
}
